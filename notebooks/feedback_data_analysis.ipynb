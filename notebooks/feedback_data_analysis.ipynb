{
 "cells": [
  {
   "cell_type": "markdown",
   "metadata": {},
   "source": [
    "# City of Helsinki feedback data analysis\n",
    "This notebook formats and filters citizen feedback data and outputs the formatted file as a csv/excel file. This was originally used with a 2019 dataset for analyzing business hours related feedback but the notebook can be modified for use with all kinds of City of Helsinki feedback."
   ]
  },
  {
   "cell_type": "code",
   "execution_count": null,
   "metadata": {},
   "outputs": [],
   "source": [
    "import pandas as pd\n",
    "import re"
   ]
  },
  {
   "cell_type": "code",
   "execution_count": null,
   "metadata": {},
   "outputs": [],
   "source": [
    "# For purposes of displaying the content within this notebook, set column width to the default '50' \n",
    "# or 'None' if you want to display the whole content\n",
    "pd.set_option('display.max_colwidth', 50)\n",
    "\n",
    "# Display all columns\n",
    "pd.set_option('display.max_columns', 500)"
   ]
  },
  {
   "cell_type": "code",
   "execution_count": null,
   "metadata": {},
   "outputs": [],
   "source": [
    "# Open files and load them as DataFrames 'df1', 'df2', 'df3'\n",
    "df1 = pd.read_csv('feedback_2019_01_01_2019_07_23.csv', sep=';')\n",
    "df2 = pd.read_csv('feedback_2019_07_01_2019_11_29.csv', sep=';', header=None)\n",
    "df3 = pd.read_csv('feedback_2019_11_30_2019_12_31.csv', sep=';')"
   ]
  },
  {
   "cell_type": "code",
   "execution_count": null,
   "metadata": {},
   "outputs": [],
   "source": [
    "# Examine data for df1\n",
    "df1"
   ]
  },
  {
   "cell_type": "code",
   "execution_count": null,
   "metadata": {},
   "outputs": [],
   "source": [
    "# Keep only the relevant columns\n",
    "df1_filtered = df1[['Otsikko', 'Palaute', 'Vastaus', 'Luokka', 'Omistaja', 'Toimipiste', 'Osoite']]"
   ]
  },
  {
   "cell_type": "code",
   "execution_count": null,
   "metadata": {},
   "outputs": [],
   "source": [
    "# Examine filtered data for df1\n",
    "df1_filtered"
   ]
  },
  {
   "cell_type": "code",
   "execution_count": null,
   "metadata": {},
   "outputs": [],
   "source": [
    "# Examine data for df2\n",
    "df2"
   ]
  },
  {
   "cell_type": "code",
   "execution_count": null,
   "metadata": {},
   "outputs": [],
   "source": [
    "# Keep only the relevant columns\n",
    "df2_filtered = df2[[5, 6, 8, 10, 4, 14, 15]]"
   ]
  },
  {
   "cell_type": "code",
   "execution_count": null,
   "metadata": {},
   "outputs": [],
   "source": [
    "# Name the columns\n",
    "df2_filtered.columns = ['Otsikko', 'Palaute', 'Vastaus', 'Luokka', 'Omistaja', 'Toimipiste', 'Osoite']"
   ]
  },
  {
   "cell_type": "code",
   "execution_count": null,
   "metadata": {},
   "outputs": [],
   "source": [
    "# Examine filtered data for df2\n",
    "df2_filtered"
   ]
  },
  {
   "cell_type": "code",
   "execution_count": null,
   "metadata": {},
   "outputs": [],
   "source": [
    "# Examine data for df3\n",
    "df3"
   ]
  },
  {
   "cell_type": "code",
   "execution_count": null,
   "metadata": {},
   "outputs": [],
   "source": [
    "# Keep only the relevant columns\n",
    "df3_filtered = df3[['Otsikko', 'Palaute', 'Vastaus', 'Luokittelu', 'Organisaatio', 'Toimipiste', 'Osoite']]\n",
    "\n",
    "# Rename columns\n",
    "df3_filtered.rename(columns={'Organisaatio': 'Omistaja', 'Luokittelu': 'Luokka'}, inplace=True)"
   ]
  },
  {
   "cell_type": "code",
   "execution_count": null,
   "metadata": {},
   "outputs": [],
   "source": [
    "# Examine filtered data for df3\n",
    "df3_filtered"
   ]
  },
  {
   "cell_type": "code",
   "execution_count": null,
   "metadata": {},
   "outputs": [],
   "source": [
    "# Merge into a single DataFrame\n",
    "df_all = pd.concat([df1_filtered, df2_filtered, df3_filtered], axis=0).reset_index(drop=True)"
   ]
  },
  {
   "cell_type": "code",
   "execution_count": null,
   "metadata": {},
   "outputs": [],
   "source": [
    "# Examine data for df_all\n",
    "df_all"
   ]
  },
  {
   "cell_type": "code",
   "execution_count": null,
   "metadata": {},
   "outputs": [],
   "source": [
    "# Filter for feedback with these strings: \"Aukiolo\", \"aukiolo\"\n",
    "# in these columns: \"Luokka\", \"Otsikko\", \"Palaute\"\n",
    "df_all = df_all[df_all['Luokka'].str.contains('aukiolo', flags=re.I, regex=True, na=False) | df_all['Otsikko'].str.contains('aukiolo', flags=re.I, regex=True, na=False) | df_all['Palaute'].str.contains('aukiolo', flags=re.I, regex=True, na = False)]"
   ]
  },
  {
   "cell_type": "code",
   "execution_count": null,
   "metadata": {},
   "outputs": [],
   "source": [
    "# Filter out feedback that contains these strings: \"ilmonet\", \"kurssi\"\n",
    "df_all = df_all[~df_all['Palaute'].str.contains('ilmonet|kurssi', flags=re.I, regex=True, na=False)]"
   ]
  },
  {
   "cell_type": "code",
   "execution_count": null,
   "metadata": {},
   "outputs": [],
   "source": [
    "# Examine filtered data for df_all\n",
    "df_all"
   ]
  },
  {
   "cell_type": "code",
   "execution_count": null,
   "metadata": {},
   "outputs": [],
   "source": [
    "# Save the data to a csv file\n",
    "# df_all.to_csv('filtered_2019_01_01_2019_12_31.csv')\n",
    "\n",
    "# Save the data to an excel file\n",
    "df_all.to_excel('feedback_filtered_2019_01_01_2019_12_31.xlsx', sheet_name='Sheet1', engine='xlsxwriter')"
   ]
  },
  {
   "cell_type": "code",
   "execution_count": null,
   "metadata": {},
   "outputs": [],
   "source": []
  }
 ],
 "metadata": {
  "kernelspec": {
   "display_name": "Python 3",
   "language": "python",
   "name": "python3"
  },
  "language_info": {
   "codemirror_mode": {
    "name": "ipython",
    "version": 3
   },
   "file_extension": ".py",
   "mimetype": "text/x-python",
   "name": "python",
   "nbconvert_exporter": "python",
   "pygments_lexer": "ipython3",
   "version": "3.7.6"
  }
 },
 "nbformat": 4,
 "nbformat_minor": 4
}
